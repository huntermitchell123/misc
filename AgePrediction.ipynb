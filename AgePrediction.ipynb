{
  "nbformat": 4,
  "nbformat_minor": 0,
  "metadata": {
    "colab": {
      "name": "AgePredictionVideo.ipynb",
      "provenance": [],
      "collapsed_sections": [],
      "authorship_tag": "ABX9TyOaggGRR6VwXOTScBMcdX8L",
      "include_colab_link": true
    },
    "kernelspec": {
      "name": "python3",
      "display_name": "Python 3"
    }
  },
  "cells": [
    {
      "cell_type": "markdown",
      "metadata": {
        "id": "view-in-github",
        "colab_type": "text"
      },
      "source": [
        "<a href=\"https://colab.research.google.com/github/huntermitchell123/misc/blob/master/AgePrediction.ipynb\" target=\"_parent\"><img src=\"https://colab.research.google.com/assets/colab-badge.svg\" alt=\"Open In Colab\"/></a>"
      ]
    },
    {
      "cell_type": "code",
      "metadata": {
        "colab": {
          "base_uri": "https://localhost:8080/"
        },
        "id": "XrNw62ZH1lbk",
        "outputId": "d2ec4475-a5e7-4b10-f3c3-2fd85dc0d407"
      },
      "source": [
        "!pip install gdown"
      ],
      "execution_count": 1,
      "outputs": [
        {
          "output_type": "stream",
          "text": [
            "Requirement already satisfied: gdown in /usr/local/lib/python3.6/dist-packages (3.6.4)\n",
            "Requirement already satisfied: tqdm in /usr/local/lib/python3.6/dist-packages (from gdown) (4.41.1)\n",
            "Requirement already satisfied: six in /usr/local/lib/python3.6/dist-packages (from gdown) (1.15.0)\n",
            "Requirement already satisfied: requests in /usr/local/lib/python3.6/dist-packages (from gdown) (2.23.0)\n",
            "Requirement already satisfied: urllib3!=1.25.0,!=1.25.1,<1.26,>=1.21.1 in /usr/local/lib/python3.6/dist-packages (from requests->gdown) (1.24.3)\n",
            "Requirement already satisfied: idna<3,>=2.5 in /usr/local/lib/python3.6/dist-packages (from requests->gdown) (2.10)\n",
            "Requirement already satisfied: certifi>=2017.4.17 in /usr/local/lib/python3.6/dist-packages (from requests->gdown) (2020.12.5)\n",
            "Requirement already satisfied: chardet<4,>=3.0.2 in /usr/local/lib/python3.6/dist-packages (from requests->gdown) (3.0.4)\n"
          ],
          "name": "stdout"
        }
      ]
    },
    {
      "cell_type": "code",
      "metadata": {
        "colab": {
          "base_uri": "https://localhost:8080/"
        },
        "id": "4a41lsEh1q8X",
        "outputId": "1762e31f-d3da-44bf-fe16-beadd3a42841"
      },
      "source": [
        "!gdown https://drive.google.com/uc?id=0BxYys69jI14kRjNmM0gyVWM2bHM"
      ],
      "execution_count": 2,
      "outputs": [
        {
          "output_type": "stream",
          "text": [
            "Downloading...\n",
            "From: https://drive.google.com/uc?id=0BxYys69jI14kRjNmM0gyVWM2bHM\n",
            "To: /content/crop_part1.tar.gz\n",
            "45.4MB [00:00, 124MB/s] \n"
          ],
          "name": "stdout"
        }
      ]
    },
    {
      "cell_type": "code",
      "metadata": {
        "id": "vtS5lxGf1usg"
      },
      "source": [
        "!tar -xf /content/crop_part1.tar.gz"
      ],
      "execution_count": 3,
      "outputs": []
    },
    {
      "cell_type": "code",
      "metadata": {
        "id": "2F5IlgW9Inyz"
      },
      "source": [
        "import os\n",
        "import numpy as np\n",
        "import cv2\n",
        "import tensorflow as tf\n"
      ],
      "execution_count": 175,
      "outputs": []
    },
    {
      "cell_type": "code",
      "metadata": {
        "id": "YPQ8uPRcTPdH"
      },
      "source": [
        "PATH = '/content/crop_part1'"
      ],
      "execution_count": 176,
      "outputs": []
    },
    {
      "cell_type": "code",
      "metadata": {
        "id": "-N7LVpr8TSIE"
      },
      "source": [
        "paths = os.listdir(PATH)"
      ],
      "execution_count": 178,
      "outputs": []
    },
    {
      "cell_type": "code",
      "metadata": {
        "colab": {
          "base_uri": "https://localhost:8080/"
        },
        "id": "MChrcrFATTdz",
        "outputId": "c5c764aa-94f5-4dbc-ab63-1d5250e406d9"
      },
      "source": [
        "len(paths)"
      ],
      "execution_count": 179,
      "outputs": [
        {
          "output_type": "execute_result",
          "data": {
            "text/plain": [
              "9780"
            ]
          },
          "metadata": {
            "tags": []
          },
          "execution_count": 179
        }
      ]
    },
    {
      "cell_type": "code",
      "metadata": {
        "id": "_dPGv1iVTVN6"
      },
      "source": [
        "labels = np.array([ float(path.split('_')[0]) for path in paths])"
      ],
      "execution_count": 180,
      "outputs": []
    },
    {
      "cell_type": "code",
      "metadata": {
        "colab": {
          "base_uri": "https://localhost:8080/"
        },
        "id": "RZocBsFHTdyF",
        "outputId": "67ea86f8-81d3-4680-89bf-1f164c39a4aa"
      },
      "source": [
        "labels[0]"
      ],
      "execution_count": 181,
      "outputs": [
        {
          "output_type": "execute_result",
          "data": {
            "text/plain": [
              "21.0"
            ]
          },
          "metadata": {
            "tags": []
          },
          "execution_count": 181
        }
      ]
    },
    {
      "cell_type": "code",
      "metadata": {
        "id": "BFWyw3ryTe39"
      },
      "source": [
        "def format_image(path):\n",
        "  img = cv2.imread(PATH + '/' + path)\n",
        "  img = cv2.resize(img,(128,128))\n",
        "  return img"
      ],
      "execution_count": 182,
      "outputs": []
    },
    {
      "cell_type": "code",
      "metadata": {
        "id": "K58TZkbUTn4J"
      },
      "source": [
        "data = np.array([format_image(path) for path in paths])"
      ],
      "execution_count": 184,
      "outputs": []
    },
    {
      "cell_type": "code",
      "metadata": {
        "id": "H8gWm3XtTrRU"
      },
      "source": [
        "from sklearn.model_selection import train_test_split"
      ],
      "execution_count": 185,
      "outputs": []
    },
    {
      "cell_type": "code",
      "metadata": {
        "id": "QOSbjLpwTwwj"
      },
      "source": [
        "train_x,test_x,train_y,test_y = train_test_split(data,labels,test_size=0.2)"
      ],
      "execution_count": 186,
      "outputs": []
    },
    {
      "cell_type": "code",
      "metadata": {
        "id": "GMmZQUb7T2sc"
      },
      "source": [
        "from tensorflow.keras.applications import MobileNet"
      ],
      "execution_count": 187,
      "outputs": []
    },
    {
      "cell_type": "code",
      "metadata": {
        "id": "hTU3x9MWT-Dq"
      },
      "source": [
        "import  tensorflow.keras.layers as L\n"
      ],
      "execution_count": 188,
      "outputs": []
    },
    {
      "cell_type": "code",
      "metadata": {
        "id": "Fp6DG1GAUBRn"
      },
      "source": [
        "model = tf.keras.Sequential([\n",
        "                  MobileNet(input_shape=(128,128,3),\n",
        "                            include_top=False,\n",
        "                            pooling='avg',\n",
        "                            weights='imagenet'),\n",
        "                             L.Dense(1)\n",
        "])"
      ],
      "execution_count": 189,
      "outputs": []
    },
    {
      "cell_type": "code",
      "metadata": {
        "colab": {
          "base_uri": "https://localhost:8080/"
        },
        "id": "nZyVkN_HUOfj",
        "outputId": "3c80a13b-4fda-4393-c050-1f89ff95db8f"
      },
      "source": [
        "model.summary()"
      ],
      "execution_count": 190,
      "outputs": [
        {
          "output_type": "stream",
          "text": [
            "Model: \"sequential_13\"\n",
            "_________________________________________________________________\n",
            "Layer (type)                 Output Shape              Param #   \n",
            "=================================================================\n",
            "mobilenet_1.00_128 (Function (None, 1024)              3228864   \n",
            "_________________________________________________________________\n",
            "dense_13 (Dense)             (None, 1)                 1025      \n",
            "=================================================================\n",
            "Total params: 3,229,889\n",
            "Trainable params: 3,208,001\n",
            "Non-trainable params: 21,888\n",
            "_________________________________________________________________\n"
          ],
          "name": "stdout"
        }
      ]
    },
    {
      "cell_type": "code",
      "metadata": {
        "id": "dZRF-zKdUPqm"
      },
      "source": [
        "model.compile(optimizer='adam',loss='mae',metrics='mae')"
      ],
      "execution_count": 191,
      "outputs": []
    },
    {
      "cell_type": "code",
      "metadata": {
        "id": "WEmL6UzGUhD9"
      },
      "source": [
        "?model.fit()\n"
      ],
      "execution_count": 193,
      "outputs": []
    },
    {
      "cell_type": "code",
      "metadata": {
        "colab": {
          "base_uri": "https://localhost:8080/"
        },
        "id": "DXETYUFkUWo_",
        "outputId": "e9137a86-df36-4147-d3d9-7115a9686b11"
      },
      "source": [
        "model.fit(\n",
        "    x_train,\n",
        "    y_train,\n",
        "    batch_size=64,\n",
        "    epochs=4,\n",
        "    validation_data=(x_test,y_test)\n",
        ")"
      ],
      "execution_count": 194,
      "outputs": [
        {
          "output_type": "stream",
          "text": [
            "Epoch 1/4\n",
            "123/123 [==============================] - 21s 155ms/step - loss: 13.3345 - mae: 13.3345 - val_loss: 11.7446 - val_mae: 11.7446\n",
            "Epoch 2/4\n",
            "123/123 [==============================] - 19s 152ms/step - loss: 5.3221 - mae: 5.3221 - val_loss: 10.9096 - val_mae: 10.9096\n",
            "Epoch 3/4\n",
            "123/123 [==============================] - 19s 151ms/step - loss: 4.6463 - mae: 4.6463 - val_loss: 5.3069 - val_mae: 5.3069\n",
            "Epoch 4/4\n",
            "123/123 [==============================] - 19s 152ms/step - loss: 4.1083 - mae: 4.1083 - val_loss: 5.0364 - val_mae: 5.0364\n"
          ],
          "name": "stdout"
        },
        {
          "output_type": "execute_result",
          "data": {
            "text/plain": [
              "<tensorflow.python.keras.callbacks.History at 0x7fcabc0dbe10>"
            ]
          },
          "metadata": {
            "tags": []
          },
          "execution_count": 194
        }
      ]
    },
    {
      "cell_type": "code",
      "metadata": {
        "id": "P7cDVQf6Ul-R"
      },
      "source": [
        "test_pic = cv2.imread('/content/LinkedInPic.jpg')"
      ],
      "execution_count": 200,
      "outputs": []
    },
    {
      "cell_type": "code",
      "metadata": {
        "id": "Itui6nf4Uu3G"
      },
      "source": [
        "test_pic = cv2.resize(test_pic,(128,128))"
      ],
      "execution_count": 201,
      "outputs": []
    },
    {
      "cell_type": "code",
      "metadata": {
        "id": "FI2hQFClU8zD"
      },
      "source": [
        "from google.colab.patches import cv2_imshow"
      ],
      "execution_count": 198,
      "outputs": []
    },
    {
      "cell_type": "code",
      "metadata": {
        "colab": {
          "base_uri": "https://localhost:8080/",
          "height": 145
        },
        "id": "NVDA4bnMU3tu",
        "outputId": "799b535d-e455-44cd-c719-8c164c89717d"
      },
      "source": [
        "cv2_imshow(test_pic)"
      ],
      "execution_count": 202,
      "outputs": [
        {
          "output_type": "display_data",
          "data": {
            "image/png": "[encoded data removed]",
            "text/plain": [
              "<PIL.Image.Image image mode=RGB size=128x128 at 0x7FCABB896748>"
            ]
          },
          "metadata": {
            "tags": []
          }
        }
      ]
    },
    {
      "cell_type": "code",
      "metadata": {
        "id": "JkLG-1vQVF7A"
      },
      "source": [
        "test_pic = test_pic.reshape((1,128,128,3))"
      ],
      "execution_count": 204,
      "outputs": []
    },
    {
      "cell_type": "code",
      "metadata": {
        "colab": {
          "base_uri": "https://localhost:8080/"
        },
        "id": "PzDBSwljUzCQ",
        "outputId": "9590516b-e60e-4025-cf2b-ea44b2d4c911"
      },
      "source": [
        "pred = model.predict(test_pic)"
      ],
      "execution_count": 205,
      "outputs": [
        {
          "output_type": "stream",
          "text": [
            "WARNING:tensorflow:8 out of the last 11 calls to <function Model.make_predict_function.<locals>.predict_function at 0x7fcabb863950> triggered tf.function retracing. Tracing is expensive and the excessive number of tracings could be due to (1) creating @tf.function repeatedly in a loop, (2) passing tensors with different shapes, (3) passing Python objects instead of tensors. For (1), please define your @tf.function outside of the loop. For (2), @tf.function has experimental_relax_shapes=True option that relaxes argument shapes that can avoid unnecessary retracing. For (3), please refer to https://www.tensorflow.org/guide/function#controlling_retracing and https://www.tensorflow.org/api_docs/python/tf/function for  more details.\n"
          ],
          "name": "stdout"
        }
      ]
    },
    {
      "cell_type": "code",
      "metadata": {
        "colab": {
          "base_uri": "https://localhost:8080/"
        },
        "id": "Ybr94u07VGS0",
        "outputId": "e9f689ba-3eea-47f0-9988-9f9d99763dcb"
      },
      "source": [
        "pred"
      ],
      "execution_count": 206,
      "outputs": [
        {
          "output_type": "execute_result",
          "data": {
            "text/plain": [
              "array([[25.026966]], dtype=float32)"
            ]
          },
          "metadata": {
            "tags": []
          },
          "execution_count": 206
        }
      ]
    },
    {
      "cell_type": "code",
      "metadata": {
        "id": "gfaI6iTNVOX6"
      },
      "source": [
        ""
      ],
      "execution_count": null,
      "outputs": []
    }
  ]
}